{
 "cells": [
  {
   "cell_type": "markdown",
   "id": "db2623a7",
   "metadata": {},
   "source": [
    "## IMPORT NECESSARY LIBRARIES"
   ]
  },
  {
   "cell_type": "code",
   "execution_count": 1,
   "id": "91812bf2",
   "metadata": {},
   "outputs": [],
   "source": [
    "import pandas as pd\n",
    "import numpy as np\n",
    "\n",
    "from sklearn.linear_model import LinearRegression\n",
    "\n",
    "from sklearn.metrics import mean_squared_error\n",
    "from sklearn.model_selection import train_test_split"
   ]
  },
  {
   "cell_type": "markdown",
   "id": "9b156adc",
   "metadata": {},
   "source": [
    "## READ DATASETS"
   ]
  },
  {
   "cell_type": "code",
   "execution_count": 2,
   "id": "dc7be41c",
   "metadata": {},
   "outputs": [
    {
     "data": {
      "text/html": [
       "<div>\n",
       "<style scoped>\n",
       "    .dataframe tbody tr th:only-of-type {\n",
       "        vertical-align: middle;\n",
       "    }\n",
       "\n",
       "    .dataframe tbody tr th {\n",
       "        vertical-align: top;\n",
       "    }\n",
       "\n",
       "    .dataframe thead th {\n",
       "        text-align: right;\n",
       "    }\n",
       "</style>\n",
       "<table border=\"1\" class=\"dataframe\">\n",
       "  <thead>\n",
       "    <tr style=\"text-align: right;\">\n",
       "      <th></th>\n",
       "      <th>ID</th>\n",
       "      <th>Make</th>\n",
       "      <th>Model</th>\n",
       "      <th>Year of manufacture</th>\n",
       "      <th>Colour</th>\n",
       "      <th>Fuel</th>\n",
       "      <th>Transmission</th>\n",
       "      <th>Condition</th>\n",
       "      <th>Mileage</th>\n",
       "      <th>Engine Size</th>\n",
       "      <th>Selling Condition</th>\n",
       "      <th>Bought Condition</th>\n",
       "      <th>price</th>\n",
       "    </tr>\n",
       "  </thead>\n",
       "  <tbody>\n",
       "    <tr>\n",
       "      <th>0</th>\n",
       "      <td>ID_xXJ4kc</td>\n",
       "      <td>Honda</td>\n",
       "      <td>Accord</td>\n",
       "      <td>2012</td>\n",
       "      <td>Silver</td>\n",
       "      <td>Petrol</td>\n",
       "      <td>Automatic</td>\n",
       "      <td>Nigerian Used</td>\n",
       "      <td>149429.0</td>\n",
       "      <td>3500.0</td>\n",
       "      <td>Registered</td>\n",
       "      <td>Registered</td>\n",
       "      <td>3120000</td>\n",
       "    </tr>\n",
       "    <tr>\n",
       "      <th>1</th>\n",
       "      <td>ID_2k3coj</td>\n",
       "      <td>Toyota</td>\n",
       "      <td>Highlander</td>\n",
       "      <td>2008</td>\n",
       "      <td>Black</td>\n",
       "      <td>Petrol</td>\n",
       "      <td>Automatic</td>\n",
       "      <td>Nigerian Used</td>\n",
       "      <td>165972.0</td>\n",
       "      <td>3500.0</td>\n",
       "      <td>Registered</td>\n",
       "      <td>Registered</td>\n",
       "      <td>4620000</td>\n",
       "    </tr>\n",
       "    <tr>\n",
       "      <th>2</th>\n",
       "      <td>ID_QR1N4z</td>\n",
       "      <td>Land Rover</td>\n",
       "      <td>Range Rover Sport</td>\n",
       "      <td>2008</td>\n",
       "      <td>Black</td>\n",
       "      <td>Petrol</td>\n",
       "      <td>Automatic</td>\n",
       "      <td>Nigerian Used</td>\n",
       "      <td>114768.0</td>\n",
       "      <td>4400.0</td>\n",
       "      <td>Registered</td>\n",
       "      <td>Imported</td>\n",
       "      <td>2835000</td>\n",
       "    </tr>\n",
       "    <tr>\n",
       "      <th>3</th>\n",
       "      <td>ID_krFp1Y</td>\n",
       "      <td>Toyota</td>\n",
       "      <td>Camry</td>\n",
       "      <td>2006</td>\n",
       "      <td>Gray</td>\n",
       "      <td>Petrol</td>\n",
       "      <td>Automatic</td>\n",
       "      <td>Nigerian Used</td>\n",
       "      <td>211631.0</td>\n",
       "      <td>3800.0</td>\n",
       "      <td>Registered</td>\n",
       "      <td>Registered</td>\n",
       "      <td>2257500</td>\n",
       "    </tr>\n",
       "    <tr>\n",
       "      <th>4</th>\n",
       "      <td>ID_fBBkhN</td>\n",
       "      <td>Volvo</td>\n",
       "      <td>XC90</td>\n",
       "      <td>2006</td>\n",
       "      <td>Silver</td>\n",
       "      <td>Petrol</td>\n",
       "      <td>Automatic</td>\n",
       "      <td>Nigerian Used</td>\n",
       "      <td>145648.0</td>\n",
       "      <td>3200.0</td>\n",
       "      <td>Registered</td>\n",
       "      <td>Imported</td>\n",
       "      <td>3150000</td>\n",
       "    </tr>\n",
       "  </tbody>\n",
       "</table>\n",
       "</div>"
      ],
      "text/plain": [
       "          ID                          Make  \\\n",
       "0  ID_xXJ4kc                 Honda           \n",
       "1  ID_2k3coj                Toyota           \n",
       "2  ID_QR1N4z            Land Rover           \n",
       "3  ID_krFp1Y                Toyota           \n",
       "4  ID_fBBkhN                 Volvo           \n",
       "\n",
       "                                 Model  Year of manufacture  \\\n",
       "0                       Accord                         2012   \n",
       "1                   Highlander                         2008   \n",
       "2            Range Rover Sport                         2008   \n",
       "3                        Camry                         2006   \n",
       "4                         XC90                         2006   \n",
       "\n",
       "                     Colour    Fuel Transmission  \\\n",
       "0            Silver          Petrol    Automatic   \n",
       "1             Black          Petrol    Automatic   \n",
       "2             Black          Petrol    Automatic   \n",
       "3              Gray          Petrol    Automatic   \n",
       "4            Silver          Petrol    Automatic   \n",
       "\n",
       "                         Condition   Mileage  Engine Size  \\\n",
       "0            Nigerian Used          149429.0       3500.0   \n",
       "1            Nigerian Used          165972.0       3500.0   \n",
       "2            Nigerian Used          114768.0       4400.0   \n",
       "3            Nigerian Used          211631.0       3800.0   \n",
       "4            Nigerian Used          145648.0       3200.0   \n",
       "\n",
       "              Selling Condition              Bought Condition    price  \n",
       "0            Registered                    Registered          3120000  \n",
       "1            Registered                    Registered          4620000  \n",
       "2            Registered                      Imported          2835000  \n",
       "3            Registered                    Registered          2257500  \n",
       "4            Registered                      Imported          3150000  "
      ]
     },
     "execution_count": 2,
     "metadata": {},
     "output_type": "execute_result"
    }
   ],
   "source": [
    "train=pd.read_csv(\"Train.csv\")\n",
    "test=pd.read_csv(\"Test.csv\")\n",
    "test_ids=test.ID\n",
    "sub=pd.read_csv(\"SampleSubmission.csv\")\n",
    "train.head()"
   ]
  },
  {
   "cell_type": "markdown",
   "id": "1349472e",
   "metadata": {},
   "source": [
    "## PRE - PROCESSING"
   ]
  },
  {
   "cell_type": "markdown",
   "id": "2b96bcfb",
   "metadata": {},
   "source": [
    "#### Check Duplicates"
   ]
  },
  {
   "cell_type": "code",
   "execution_count": 3,
   "id": "f4f85687",
   "metadata": {},
   "outputs": [
    {
     "name": "stdout",
     "output_type": "stream",
     "text": [
      "Duplicates in train before dropping: 0\n",
      "Duplicates in test before dropping: 0\n",
      "Duplicates in train after dropping: 0\n",
      "Duplicates in test after dropping: 0\n"
     ]
    }
   ],
   "source": [
    "print(\"Duplicates in train before dropping:\", train.duplicated().sum())\n",
    "print(\"Duplicates in test before dropping:\", test.duplicated().sum())\n",
    "\n",
    "train.drop_duplicates(inplace=True)\n",
    "test.drop_duplicates(inplace=True)\n",
    "\n",
    "print(\"Duplicates in train after dropping:\", train.duplicated().sum())\n",
    "print(\"Duplicates in test after dropping:\", test.duplicated().sum())"
   ]
  },
  {
   "cell_type": "markdown",
   "id": "7db21bfd",
   "metadata": {},
   "source": [
    "#### Drop the ids"
   ]
  },
  {
   "cell_type": "code",
   "execution_count": 4,
   "id": "98dadf4d",
   "metadata": {},
   "outputs": [],
   "source": [
    "# Not used for training but only identification only\n",
    "train.drop(\"ID\",axis=1,inplace=True)\n",
    "test.drop(\"ID\",axis=1,inplace=True)"
   ]
  },
  {
   "cell_type": "markdown",
   "id": "d9fb3ee6",
   "metadata": {},
   "source": [
    "#### Fill NAN"
   ]
  },
  {
   "cell_type": "code",
   "execution_count": 5,
   "id": "a90d7002",
   "metadata": {},
   "outputs": [
    {
     "data": {
      "text/plain": [
       "Make                    0\n",
       "Model                   0\n",
       "Year of manufacture     0\n",
       "Colour                  0\n",
       "Fuel                    0\n",
       "Transmission            0\n",
       "Condition               0\n",
       "Mileage                25\n",
       "Engine Size            12\n",
       "Selling Condition       0\n",
       "Bought Condition        0\n",
       "price                   0\n",
       "dtype: int64"
      ]
     },
     "execution_count": 5,
     "metadata": {},
     "output_type": "execute_result"
    }
   ],
   "source": [
    "train.isnull().sum()"
   ]
  },
  {
   "cell_type": "code",
   "execution_count": 6,
   "id": "4871c2b4",
   "metadata": {},
   "outputs": [],
   "source": [
    "train.fillna(0,inplace=True)\n",
    "test.fillna(0,inplace=True)"
   ]
  },
  {
   "cell_type": "markdown",
   "id": "7cfa3c80",
   "metadata": {},
   "source": [
    "## MODELLING"
   ]
  },
  {
   "cell_type": "markdown",
   "id": "5bf579c7",
   "metadata": {},
   "source": [
    "#### Select Numerical Cols Only for Training"
   ]
  },
  {
   "cell_type": "code",
   "execution_count": 7,
   "id": "cb11a1f1",
   "metadata": {},
   "outputs": [
    {
     "data": {
      "text/html": [
       "<div>\n",
       "<style scoped>\n",
       "    .dataframe tbody tr th:only-of-type {\n",
       "        vertical-align: middle;\n",
       "    }\n",
       "\n",
       "    .dataframe tbody tr th {\n",
       "        vertical-align: top;\n",
       "    }\n",
       "\n",
       "    .dataframe thead th {\n",
       "        text-align: right;\n",
       "    }\n",
       "</style>\n",
       "<table border=\"1\" class=\"dataframe\">\n",
       "  <thead>\n",
       "    <tr style=\"text-align: right;\">\n",
       "      <th></th>\n",
       "      <th>Year of manufacture</th>\n",
       "      <th>Mileage</th>\n",
       "      <th>Engine Size</th>\n",
       "      <th>price</th>\n",
       "    </tr>\n",
       "  </thead>\n",
       "  <tbody>\n",
       "    <tr>\n",
       "      <th>0</th>\n",
       "      <td>2012</td>\n",
       "      <td>149429.0</td>\n",
       "      <td>3500.0</td>\n",
       "      <td>3120000</td>\n",
       "    </tr>\n",
       "    <tr>\n",
       "      <th>1</th>\n",
       "      <td>2008</td>\n",
       "      <td>165972.0</td>\n",
       "      <td>3500.0</td>\n",
       "      <td>4620000</td>\n",
       "    </tr>\n",
       "    <tr>\n",
       "      <th>2</th>\n",
       "      <td>2008</td>\n",
       "      <td>114768.0</td>\n",
       "      <td>4400.0</td>\n",
       "      <td>2835000</td>\n",
       "    </tr>\n",
       "    <tr>\n",
       "      <th>3</th>\n",
       "      <td>2006</td>\n",
       "      <td>211631.0</td>\n",
       "      <td>3800.0</td>\n",
       "      <td>2257500</td>\n",
       "    </tr>\n",
       "    <tr>\n",
       "      <th>4</th>\n",
       "      <td>2006</td>\n",
       "      <td>145648.0</td>\n",
       "      <td>3200.0</td>\n",
       "      <td>3150000</td>\n",
       "    </tr>\n",
       "  </tbody>\n",
       "</table>\n",
       "</div>"
      ],
      "text/plain": [
       "   Year of manufacture   Mileage  Engine Size    price\n",
       "0                 2012  149429.0       3500.0  3120000\n",
       "1                 2008  165972.0       3500.0  4620000\n",
       "2                 2008  114768.0       4400.0  2835000\n",
       "3                 2006  211631.0       3800.0  2257500\n",
       "4                 2006  145648.0       3200.0  3150000"
      ]
     },
     "execution_count": 7,
     "metadata": {},
     "output_type": "execute_result"
    }
   ],
   "source": [
    "train=train[[\"Year of manufacture\",\"Mileage\",\"Engine Size\",\"price\"]]\n",
    "test=test[[\"Year of manufacture\",\"Mileage\",\"Engine Size\"]]\n",
    "train.head()"
   ]
  },
  {
   "cell_type": "markdown",
   "id": "a7d31f90",
   "metadata": {},
   "source": [
    "#### Model"
   ]
  },
  {
   "cell_type": "code",
   "execution_count": 8,
   "id": "2e8099bf",
   "metadata": {},
   "outputs": [
    {
     "data": {
      "text/html": [
       "<div>\n",
       "<style scoped>\n",
       "    .dataframe tbody tr th:only-of-type {\n",
       "        vertical-align: middle;\n",
       "    }\n",
       "\n",
       "    .dataframe tbody tr th {\n",
       "        vertical-align: top;\n",
       "    }\n",
       "\n",
       "    .dataframe thead th {\n",
       "        text-align: right;\n",
       "    }\n",
       "</style>\n",
       "<table border=\"1\" class=\"dataframe\">\n",
       "  <thead>\n",
       "    <tr style=\"text-align: right;\">\n",
       "      <th></th>\n",
       "      <th>ID</th>\n",
       "      <th>price</th>\n",
       "    </tr>\n",
       "  </thead>\n",
       "  <tbody>\n",
       "    <tr>\n",
       "      <th>0</th>\n",
       "      <td>ID_CCK7xp</td>\n",
       "      <td>6.741042e+06</td>\n",
       "    </tr>\n",
       "    <tr>\n",
       "      <th>1</th>\n",
       "      <td>ID_69RKZr</td>\n",
       "      <td>2.268758e+06</td>\n",
       "    </tr>\n",
       "    <tr>\n",
       "      <th>2</th>\n",
       "      <td>ID_6bNQFH</td>\n",
       "      <td>5.072421e+06</td>\n",
       "    </tr>\n",
       "    <tr>\n",
       "      <th>3</th>\n",
       "      <td>ID_OxjBL4</td>\n",
       "      <td>2.567326e+06</td>\n",
       "    </tr>\n",
       "    <tr>\n",
       "      <th>4</th>\n",
       "      <td>ID_Bjl4Bg</td>\n",
       "      <td>3.405721e+06</td>\n",
       "    </tr>\n",
       "  </tbody>\n",
       "</table>\n",
       "</div>"
      ],
      "text/plain": [
       "          ID         price\n",
       "0  ID_CCK7xp  6.741042e+06\n",
       "1  ID_69RKZr  2.268758e+06\n",
       "2  ID_6bNQFH  5.072421e+06\n",
       "3  ID_OxjBL4  2.567326e+06\n",
       "4  ID_Bjl4Bg  3.405721e+06"
      ]
     },
     "execution_count": 8,
     "metadata": {},
     "output_type": "execute_result"
    }
   ],
   "source": [
    "model=LinearRegression()\n",
    "X=train.drop(\"price\",axis=1)\n",
    "y=train[\"price\"]\n",
    "model.fit(X,y)\n",
    "preds=model.predict(test)\n",
    "\n",
    "sub=pd.DataFrame({\"ID\":test_ids,\n",
    "                 \"price\":preds})\n",
    "sub.to_csv(\"BaselineSubmission.csv\",index=False)\n",
    "sub.head()"
   ]
  }
 ],
 "metadata": {
  "kernelspec": {
   "display_name": "Python 3 (ipykernel)",
   "language": "python",
   "name": "python3"
  },
  "language_info": {
   "codemirror_mode": {
    "name": "ipython",
    "version": 3
   },
   "file_extension": ".py",
   "mimetype": "text/x-python",
   "name": "python",
   "nbconvert_exporter": "python",
   "pygments_lexer": "ipython3",
   "version": "3.9.13"
  }
 },
 "nbformat": 4,
 "nbformat_minor": 5
}
